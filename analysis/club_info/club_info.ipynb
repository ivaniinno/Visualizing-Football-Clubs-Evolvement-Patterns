{
 "cells": [
  {
   "cell_type": "code",
   "execution_count": 1,
   "metadata": {},
   "outputs": [],
   "source": [
    "import numpy as np\n",
    "import pandas as pd\n",
    "import json"
   ]
  },
  {
   "cell_type": "code",
   "execution_count": 2,
   "metadata": {},
   "outputs": [
    {
     "data": {
      "text/html": [
       "<div>\n",
       "<style scoped>\n",
       "    .dataframe tbody tr th:only-of-type {\n",
       "        vertical-align: middle;\n",
       "    }\n",
       "\n",
       "    .dataframe tbody tr th {\n",
       "        vertical-align: top;\n",
       "    }\n",
       "\n",
       "    .dataframe thead th {\n",
       "        text-align: right;\n",
       "    }\n",
       "</style>\n",
       "<table border=\"1\" class=\"dataframe\">\n",
       "  <thead>\n",
       "    <tr style=\"text-align: right;\">\n",
       "      <th></th>\n",
       "      <th>TeamID</th>\n",
       "      <th>ImageLink</th>\n",
       "    </tr>\n",
       "  </thead>\n",
       "  <tbody>\n",
       "    <tr>\n",
       "      <th>0</th>\n",
       "      <td>281</td>\n",
       "      <td>https://tmssl.akamaized.net//images/wappen/hea...</td>\n",
       "    </tr>\n",
       "    <tr>\n",
       "      <th>1</th>\n",
       "      <td>27</td>\n",
       "      <td>https://tmssl.akamaized.net//images/wappen/hea...</td>\n",
       "    </tr>\n",
       "    <tr>\n",
       "      <th>2</th>\n",
       "      <td>418</td>\n",
       "      <td>https://tmssl.akamaized.net//images/wappen/hea...</td>\n",
       "    </tr>\n",
       "    <tr>\n",
       "      <th>3</th>\n",
       "      <td>131</td>\n",
       "      <td>https://tmssl.akamaized.net//images/wappen/hea...</td>\n",
       "    </tr>\n",
       "    <tr>\n",
       "      <th>4</th>\n",
       "      <td>583</td>\n",
       "      <td>https://tmssl.akamaized.net//images/wappen/hea...</td>\n",
       "    </tr>\n",
       "  </tbody>\n",
       "</table>\n",
       "</div>"
      ],
      "text/plain": [
       "   TeamID                                           ImageLink\n",
       "0      281  https://tmssl.akamaized.net//images/wappen/hea...\n",
       "1       27  https://tmssl.akamaized.net//images/wappen/hea...\n",
       "2      418  https://tmssl.akamaized.net//images/wappen/hea...\n",
       "3      131  https://tmssl.akamaized.net//images/wappen/hea...\n",
       "4      583  https://tmssl.akamaized.net//images/wappen/hea..."
      ]
     },
     "execution_count": 2,
     "metadata": {},
     "output_type": "execute_result"
    }
   ],
   "source": [
    "# Load data about clubs images\n",
    "club_images_df = pd.read_json(\"../../parsing/parsedData/club_images.json\")\n",
    "club_images_df.head()"
   ]
  },
  {
   "cell_type": "code",
   "execution_count": 3,
   "metadata": {},
   "outputs": [
    {
     "data": {
      "text/plain": [
       "TeamID       0\n",
       "ImageLink    0\n",
       "dtype: int64"
      ]
     },
     "execution_count": 3,
     "metadata": {},
     "output_type": "execute_result"
    }
   ],
   "source": [
    "# Check for NaNs\n",
    "club_images_df.isna().sum()"
   ]
  },
  {
   "cell_type": "code",
   "execution_count": 4,
   "metadata": {},
   "outputs": [
    {
     "data": {
      "text/plain": [
       "[RangeIndex(start=0, stop=536, step=1),\n",
       " Index(['TeamID ', 'ImageLink'], dtype='object')]"
      ]
     },
     "execution_count": 4,
     "metadata": {},
     "output_type": "execute_result"
    }
   ],
   "source": [
    "# Check axes\n",
    "club_images_df.axes"
   ]
  },
  {
   "cell_type": "code",
   "execution_count": 5,
   "metadata": {},
   "outputs": [
    {
     "data": {
      "text/plain": [
       "[RangeIndex(start=0, stop=536, step=1),\n",
       " Index(['TeamID', 'ImageLink'], dtype='object')]"
      ]
     },
     "execution_count": 5,
     "metadata": {},
     "output_type": "execute_result"
    }
   ],
   "source": [
    "# Remove redundant symbols from columns\n",
    "club_images_df.columns = club_images_df.columns.str.strip()\n",
    "club_images_df.axes"
   ]
  },
  {
   "cell_type": "code",
   "execution_count": 6,
   "metadata": {},
   "outputs": [
    {
     "data": {
      "text/html": [
       "<div>\n",
       "<style scoped>\n",
       "    .dataframe tbody tr th:only-of-type {\n",
       "        vertical-align: middle;\n",
       "    }\n",
       "\n",
       "    .dataframe tbody tr th {\n",
       "        vertical-align: top;\n",
       "    }\n",
       "\n",
       "    .dataframe thead th {\n",
       "        text-align: right;\n",
       "    }\n",
       "</style>\n",
       "<table border=\"1\" class=\"dataframe\">\n",
       "  <thead>\n",
       "    <tr style=\"text-align: right;\">\n",
       "      <th></th>\n",
       "      <th>TeamID</th>\n",
       "      <th>Team_name</th>\n",
       "      <th>Country_Name</th>\n",
       "      <th>Link_to_team</th>\n",
       "      <th>Page</th>\n",
       "    </tr>\n",
       "  </thead>\n",
       "  <tbody>\n",
       "    <tr>\n",
       "      <th>0</th>\n",
       "      <td>418</td>\n",
       "      <td>Реал Мадрид</td>\n",
       "      <td>Испания</td>\n",
       "      <td>/real-madrid/startseite/verein/418</td>\n",
       "      <td>1</td>\n",
       "    </tr>\n",
       "    <tr>\n",
       "      <th>1</th>\n",
       "      <td>281</td>\n",
       "      <td>Манчестер Сити</td>\n",
       "      <td>Англия</td>\n",
       "      <td>/manchester-city/startseite/verein/281</td>\n",
       "      <td>1</td>\n",
       "    </tr>\n",
       "    <tr>\n",
       "      <th>2</th>\n",
       "      <td>27</td>\n",
       "      <td>Бавария</td>\n",
       "      <td>Германия</td>\n",
       "      <td>/fc-bayern-munchen/startseite/verein/27</td>\n",
       "      <td>1</td>\n",
       "    </tr>\n",
       "    <tr>\n",
       "      <th>3</th>\n",
       "      <td>31</td>\n",
       "      <td>Ливерпуль</td>\n",
       "      <td>Англия</td>\n",
       "      <td>/fc-liverpool/startseite/verein/31</td>\n",
       "      <td>1</td>\n",
       "    </tr>\n",
       "    <tr>\n",
       "      <th>4</th>\n",
       "      <td>583</td>\n",
       "      <td>ПСЖ</td>\n",
       "      <td>Франция</td>\n",
       "      <td>/fc-paris-saint-germain/startseite/verein/583</td>\n",
       "      <td>1</td>\n",
       "    </tr>\n",
       "  </tbody>\n",
       "</table>\n",
       "</div>"
      ],
      "text/plain": [
       "   TeamID       Team_name Country_Name  \\\n",
       "0     418     Реал Мадрид      Испания   \n",
       "1     281  Манчестер Сити       Англия   \n",
       "2      27         Бавария     Германия   \n",
       "3      31       Ливерпуль       Англия   \n",
       "4     583             ПСЖ      Франция   \n",
       "\n",
       "                                    Link_to_team  Page  \n",
       "0             /real-madrid/startseite/verein/418     1  \n",
       "1         /manchester-city/startseite/verein/281     1  \n",
       "2        /fc-bayern-munchen/startseite/verein/27     1  \n",
       "3             /fc-liverpool/startseite/verein/31     1  \n",
       "4  /fc-paris-saint-germain/startseite/verein/583     1  "
      ]
     },
     "execution_count": 6,
     "metadata": {},
     "output_type": "execute_result"
    }
   ],
   "source": [
    "# Load data about clubs\n",
    "complete_clubs_df = pd.read_json(\"../../parsing/parsedData/sorted_teams.json\")\n",
    "complete_clubs_df.head()"
   ]
  },
  {
   "cell_type": "code",
   "execution_count": 7,
   "metadata": {},
   "outputs": [
    {
     "data": {
      "text/plain": [
       "TeamID          0\n",
       "Team_name       0\n",
       "Country_Name    0\n",
       "Link_to_team    0\n",
       "Page            0\n",
       "dtype: int64"
      ]
     },
     "execution_count": 7,
     "metadata": {},
     "output_type": "execute_result"
    }
   ],
   "source": [
    "# Check for NaNs\n",
    "complete_clubs_df.isna().sum()"
   ]
  },
  {
   "cell_type": "code",
   "execution_count": 8,
   "metadata": {},
   "outputs": [
    {
     "data": {
      "text/plain": [
       "[RangeIndex(start=0, stop=536, step=1),\n",
       " Index(['TeamID', 'Team_name', 'Country_Name', 'Link_to_team', 'Page'], dtype='object')]"
      ]
     },
     "execution_count": 8,
     "metadata": {},
     "output_type": "execute_result"
    }
   ],
   "source": [
    "# Check axes\n",
    "complete_clubs_df.axes"
   ]
  },
  {
   "cell_type": "code",
   "execution_count": 9,
   "metadata": {},
   "outputs": [
    {
     "data": {
      "text/html": [
       "<div>\n",
       "<style scoped>\n",
       "    .dataframe tbody tr th:only-of-type {\n",
       "        vertical-align: middle;\n",
       "    }\n",
       "\n",
       "    .dataframe tbody tr th {\n",
       "        vertical-align: top;\n",
       "    }\n",
       "\n",
       "    .dataframe thead th {\n",
       "        text-align: right;\n",
       "    }\n",
       "</style>\n",
       "<table border=\"1\" class=\"dataframe\">\n",
       "  <thead>\n",
       "    <tr style=\"text-align: right;\">\n",
       "      <th></th>\n",
       "      <th>TeamID</th>\n",
       "      <th>Team_name</th>\n",
       "      <th>Country_Name</th>\n",
       "    </tr>\n",
       "  </thead>\n",
       "  <tbody>\n",
       "    <tr>\n",
       "      <th>0</th>\n",
       "      <td>418</td>\n",
       "      <td>Реал Мадрид</td>\n",
       "      <td>Испания</td>\n",
       "    </tr>\n",
       "    <tr>\n",
       "      <th>1</th>\n",
       "      <td>281</td>\n",
       "      <td>Манчестер Сити</td>\n",
       "      <td>Англия</td>\n",
       "    </tr>\n",
       "    <tr>\n",
       "      <th>2</th>\n",
       "      <td>27</td>\n",
       "      <td>Бавария</td>\n",
       "      <td>Германия</td>\n",
       "    </tr>\n",
       "    <tr>\n",
       "      <th>3</th>\n",
       "      <td>31</td>\n",
       "      <td>Ливерпуль</td>\n",
       "      <td>Англия</td>\n",
       "    </tr>\n",
       "    <tr>\n",
       "      <th>4</th>\n",
       "      <td>583</td>\n",
       "      <td>ПСЖ</td>\n",
       "      <td>Франция</td>\n",
       "    </tr>\n",
       "  </tbody>\n",
       "</table>\n",
       "</div>"
      ],
      "text/plain": [
       "   TeamID       Team_name Country_Name\n",
       "0     418     Реал Мадрид      Испания\n",
       "1     281  Манчестер Сити       Англия\n",
       "2      27         Бавария     Германия\n",
       "3      31       Ливерпуль       Англия\n",
       "4     583             ПСЖ      Франция"
      ]
     },
     "execution_count": 9,
     "metadata": {},
     "output_type": "execute_result"
    }
   ],
   "source": [
    "# Drop \"Page\" and \"Link_to_team\" columns, we will not need them\n",
    "complete_clubs_df.drop(columns=[\"Page\", \"Link_to_team\"], inplace=True)\n",
    "complete_clubs_df.head() "
   ]
  },
  {
   "cell_type": "code",
   "execution_count": 10,
   "metadata": {},
   "outputs": [
    {
     "data": {
      "text/html": [
       "<div>\n",
       "<style scoped>\n",
       "    .dataframe tbody tr th:only-of-type {\n",
       "        vertical-align: middle;\n",
       "    }\n",
       "\n",
       "    .dataframe tbody tr th {\n",
       "        vertical-align: top;\n",
       "    }\n",
       "\n",
       "    .dataframe thead th {\n",
       "        text-align: right;\n",
       "    }\n",
       "</style>\n",
       "<table border=\"1\" class=\"dataframe\">\n",
       "  <thead>\n",
       "    <tr style=\"text-align: right;\">\n",
       "      <th></th>\n",
       "      <th>TeamID</th>\n",
       "      <th>NumberOfTitlesByYears</th>\n",
       "      <th>NumberOfCups</th>\n",
       "    </tr>\n",
       "  </thead>\n",
       "  <tbody>\n",
       "    <tr>\n",
       "      <th>0</th>\n",
       "      <td>31</td>\n",
       "      <td>{'2024': 1, '2023': 2, '2022': 2, '2021': 4, '...</td>\n",
       "      <td>71</td>\n",
       "    </tr>\n",
       "    <tr>\n",
       "      <th>1</th>\n",
       "      <td>12</td>\n",
       "      <td>{'2024': 1, '2023': 1, '2022': 2, '2021': 2, '...</td>\n",
       "      <td>17</td>\n",
       "    </tr>\n",
       "    <tr>\n",
       "      <th>2</th>\n",
       "      <td>583</td>\n",
       "      <td>{'2024': 3, '2023': 4, '2022': 3, '2021': 2, '...</td>\n",
       "      <td>51</td>\n",
       "    </tr>\n",
       "    <tr>\n",
       "      <th>3</th>\n",
       "      <td>418</td>\n",
       "      <td>{'2024': 3, '2023': 4, '2022': 5, '2021': 4, '...</td>\n",
       "      <td>103</td>\n",
       "    </tr>\n",
       "    <tr>\n",
       "      <th>4</th>\n",
       "      <td>281</td>\n",
       "      <td>{'2024': 3, '2023': 6, '2022': 4, '2021': 2, '...</td>\n",
       "      <td>43</td>\n",
       "    </tr>\n",
       "  </tbody>\n",
       "</table>\n",
       "</div>"
      ],
      "text/plain": [
       "   TeamID                              NumberOfTitlesByYears  NumberOfCups\n",
       "0      31  {'2024': 1, '2023': 2, '2022': 2, '2021': 4, '...            71\n",
       "1      12  {'2024': 1, '2023': 1, '2022': 2, '2021': 2, '...            17\n",
       "2     583  {'2024': 3, '2023': 4, '2022': 3, '2021': 2, '...            51\n",
       "3     418  {'2024': 3, '2023': 4, '2022': 5, '2021': 4, '...           103\n",
       "4     281  {'2024': 3, '2023': 6, '2022': 4, '2021': 2, '...            43"
      ]
     },
     "execution_count": 10,
     "metadata": {},
     "output_type": "execute_result"
    }
   ],
   "source": [
    "# Load data about clubs total amount of cups\n",
    "cups_clubs_df = pd.read_json(\"../../parsing/parsedData/titles_cups.json\")\n",
    "cups_clubs_df.head()"
   ]
  },
  {
   "cell_type": "code",
   "execution_count": 11,
   "metadata": {},
   "outputs": [
    {
     "data": {
      "text/plain": [
       "TeamID                   0\n",
       "NumberOfTitlesByYears    0\n",
       "NumberOfCups             0\n",
       "dtype: int64"
      ]
     },
     "execution_count": 11,
     "metadata": {},
     "output_type": "execute_result"
    }
   ],
   "source": [
    "# Check for NaNs\n",
    "cups_clubs_df.isna().sum()"
   ]
  },
  {
   "cell_type": "code",
   "execution_count": 12,
   "metadata": {},
   "outputs": [
    {
     "data": {
      "text/plain": [
       "[RangeIndex(start=0, stop=536, step=1),\n",
       " Index(['TeamID', 'NumberOfTitlesByYears', 'NumberOfCups'], dtype='object')]"
      ]
     },
     "execution_count": 12,
     "metadata": {},
     "output_type": "execute_result"
    }
   ],
   "source": [
    "# Check axes\n",
    "cups_clubs_df.axes"
   ]
  },
  {
   "cell_type": "code",
   "execution_count": 13,
   "metadata": {},
   "outputs": [
    {
     "data": {
      "text/html": [
       "<div>\n",
       "<style scoped>\n",
       "    .dataframe tbody tr th:only-of-type {\n",
       "        vertical-align: middle;\n",
       "    }\n",
       "\n",
       "    .dataframe tbody tr th {\n",
       "        vertical-align: top;\n",
       "    }\n",
       "\n",
       "    .dataframe thead th {\n",
       "        text-align: right;\n",
       "    }\n",
       "</style>\n",
       "<table border=\"1\" class=\"dataframe\">\n",
       "  <thead>\n",
       "    <tr style=\"text-align: right;\">\n",
       "      <th></th>\n",
       "      <th>TeamID</th>\n",
       "      <th>NumberOfCups</th>\n",
       "    </tr>\n",
       "  </thead>\n",
       "  <tbody>\n",
       "    <tr>\n",
       "      <th>0</th>\n",
       "      <td>31</td>\n",
       "      <td>71</td>\n",
       "    </tr>\n",
       "    <tr>\n",
       "      <th>1</th>\n",
       "      <td>12</td>\n",
       "      <td>17</td>\n",
       "    </tr>\n",
       "    <tr>\n",
       "      <th>2</th>\n",
       "      <td>583</td>\n",
       "      <td>51</td>\n",
       "    </tr>\n",
       "    <tr>\n",
       "      <th>3</th>\n",
       "      <td>418</td>\n",
       "      <td>103</td>\n",
       "    </tr>\n",
       "    <tr>\n",
       "      <th>4</th>\n",
       "      <td>281</td>\n",
       "      <td>43</td>\n",
       "    </tr>\n",
       "  </tbody>\n",
       "</table>\n",
       "</div>"
      ],
      "text/plain": [
       "   TeamID  NumberOfCups\n",
       "0      31            71\n",
       "1      12            17\n",
       "2     583            51\n",
       "3     418           103\n",
       "4     281            43"
      ]
     },
     "execution_count": 13,
     "metadata": {},
     "output_type": "execute_result"
    }
   ],
   "source": [
    "# Drop \"NumberOfTitlesByYears\" column, we will not need it\n",
    "cups_clubs_df.drop(columns=[\"NumberOfTitlesByYears\"], inplace=True)\n",
    "cups_clubs_df.head()"
   ]
  },
  {
   "cell_type": "code",
   "execution_count": 14,
   "metadata": {},
   "outputs": [
    {
     "data": {
      "text/html": [
       "<div>\n",
       "<style scoped>\n",
       "    .dataframe tbody tr th:only-of-type {\n",
       "        vertical-align: middle;\n",
       "    }\n",
       "\n",
       "    .dataframe tbody tr th {\n",
       "        vertical-align: top;\n",
       "    }\n",
       "\n",
       "    .dataframe thead th {\n",
       "        text-align: right;\n",
       "    }\n",
       "</style>\n",
       "<table border=\"1\" class=\"dataframe\">\n",
       "  <thead>\n",
       "    <tr style=\"text-align: right;\">\n",
       "      <th></th>\n",
       "      <th>NationalTeamID</th>\n",
       "      <th>NationalTeamName</th>\n",
       "      <th>Link_to_team</th>\n",
       "      <th>Page</th>\n",
       "    </tr>\n",
       "  </thead>\n",
       "  <tbody>\n",
       "    <tr>\n",
       "      <th>0</th>\n",
       "      <td>3437</td>\n",
       "      <td>Аргентина</td>\n",
       "      <td>/argentinien/startseite/verein/3437</td>\n",
       "      <td>1</td>\n",
       "    </tr>\n",
       "    <tr>\n",
       "      <th>1</th>\n",
       "      <td>3377</td>\n",
       "      <td>Франция</td>\n",
       "      <td>/frankreich/startseite/verein/3377</td>\n",
       "      <td>1</td>\n",
       "    </tr>\n",
       "    <tr>\n",
       "      <th>2</th>\n",
       "      <td>3375</td>\n",
       "      <td>Испания</td>\n",
       "      <td>/spanien/startseite/verein/3375</td>\n",
       "      <td>1</td>\n",
       "    </tr>\n",
       "    <tr>\n",
       "      <th>3</th>\n",
       "      <td>3299</td>\n",
       "      <td>Англия</td>\n",
       "      <td>/england/startseite/verein/3299</td>\n",
       "      <td>1</td>\n",
       "    </tr>\n",
       "    <tr>\n",
       "      <th>4</th>\n",
       "      <td>3439</td>\n",
       "      <td>Бразилия</td>\n",
       "      <td>/brasilien/startseite/verein/3439</td>\n",
       "      <td>1</td>\n",
       "    </tr>\n",
       "  </tbody>\n",
       "</table>\n",
       "</div>"
      ],
      "text/plain": [
       "   NationalTeamID NationalTeamName                         Link_to_team  Page\n",
       "0            3437        Аргентина  /argentinien/startseite/verein/3437     1\n",
       "1            3377          Франция   /frankreich/startseite/verein/3377     1\n",
       "2            3375          Испания      /spanien/startseite/verein/3375     1\n",
       "3            3299           Англия      /england/startseite/verein/3299     1\n",
       "4            3439         Бразилия    /brasilien/startseite/verein/3439     1"
      ]
     },
     "execution_count": 14,
     "metadata": {},
     "output_type": "execute_result"
    }
   ],
   "source": [
    "# Load data about national teams\n",
    "national_teams_df = pd.read_json(\"../../parsing/parsedData/sorted_national_teams.json\")\n",
    "national_teams_df.head()"
   ]
  },
  {
   "cell_type": "code",
   "execution_count": 15,
   "metadata": {},
   "outputs": [
    {
     "data": {
      "text/plain": [
       "NationalTeamID      0\n",
       "NationalTeamName    0\n",
       "Link_to_team        0\n",
       "Page                0\n",
       "dtype: int64"
      ]
     },
     "execution_count": 15,
     "metadata": {},
     "output_type": "execute_result"
    }
   ],
   "source": [
    "# Check for NaNs\n",
    "national_teams_df.isna().sum()"
   ]
  },
  {
   "cell_type": "code",
   "execution_count": 16,
   "metadata": {},
   "outputs": [
    {
     "data": {
      "text/plain": [
       "[RangeIndex(start=0, stop=210, step=1),\n",
       " Index(['NationalTeamID', 'NationalTeamName', 'Link_to_team', 'Page'], dtype='object')]"
      ]
     },
     "execution_count": 16,
     "metadata": {},
     "output_type": "execute_result"
    }
   ],
   "source": [
    "# Check axes\n",
    "national_teams_df.axes"
   ]
  },
  {
   "cell_type": "code",
   "execution_count": 17,
   "metadata": {},
   "outputs": [
    {
     "data": {
      "text/html": [
       "<div>\n",
       "<style scoped>\n",
       "    .dataframe tbody tr th:only-of-type {\n",
       "        vertical-align: middle;\n",
       "    }\n",
       "\n",
       "    .dataframe tbody tr th {\n",
       "        vertical-align: top;\n",
       "    }\n",
       "\n",
       "    .dataframe thead th {\n",
       "        text-align: right;\n",
       "    }\n",
       "</style>\n",
       "<table border=\"1\" class=\"dataframe\">\n",
       "  <thead>\n",
       "    <tr style=\"text-align: right;\">\n",
       "      <th></th>\n",
       "      <th>NationalTeamID</th>\n",
       "      <th>NationalTeamName</th>\n",
       "    </tr>\n",
       "  </thead>\n",
       "  <tbody>\n",
       "    <tr>\n",
       "      <th>0</th>\n",
       "      <td>3437</td>\n",
       "      <td>Аргентина</td>\n",
       "    </tr>\n",
       "    <tr>\n",
       "      <th>1</th>\n",
       "      <td>3377</td>\n",
       "      <td>Франция</td>\n",
       "    </tr>\n",
       "    <tr>\n",
       "      <th>2</th>\n",
       "      <td>3375</td>\n",
       "      <td>Испания</td>\n",
       "    </tr>\n",
       "    <tr>\n",
       "      <th>3</th>\n",
       "      <td>3299</td>\n",
       "      <td>Англия</td>\n",
       "    </tr>\n",
       "    <tr>\n",
       "      <th>4</th>\n",
       "      <td>3439</td>\n",
       "      <td>Бразилия</td>\n",
       "    </tr>\n",
       "  </tbody>\n",
       "</table>\n",
       "</div>"
      ],
      "text/plain": [
       "   NationalTeamID NationalTeamName\n",
       "0            3437        Аргентина\n",
       "1            3377          Франция\n",
       "2            3375          Испания\n",
       "3            3299           Англия\n",
       "4            3439         Бразилия"
      ]
     },
     "execution_count": 17,
     "metadata": {},
     "output_type": "execute_result"
    }
   ],
   "source": [
    "# Drop \"Link_to_team\" and \"Page\" columns, we will not need them\n",
    "national_teams_df.drop(columns=[\"Link_to_team\", \"Page\"], inplace=True)\n",
    "national_teams_df.head()"
   ]
  },
  {
   "cell_type": "code",
   "execution_count": 18,
   "metadata": {},
   "outputs": [
    {
     "data": {
      "text/html": [
       "<div>\n",
       "<style scoped>\n",
       "    .dataframe tbody tr th:only-of-type {\n",
       "        vertical-align: middle;\n",
       "    }\n",
       "\n",
       "    .dataframe tbody tr th {\n",
       "        vertical-align: top;\n",
       "    }\n",
       "\n",
       "    .dataframe thead th {\n",
       "        text-align: right;\n",
       "    }\n",
       "</style>\n",
       "<table border=\"1\" class=\"dataframe\">\n",
       "  <thead>\n",
       "    <tr style=\"text-align: right;\">\n",
       "      <th></th>\n",
       "      <th>TeamID</th>\n",
       "      <th>ImageLink</th>\n",
       "      <th>Team_name</th>\n",
       "      <th>Country_Name</th>\n",
       "    </tr>\n",
       "  </thead>\n",
       "  <tbody>\n",
       "    <tr>\n",
       "      <th>0</th>\n",
       "      <td>281</td>\n",
       "      <td>https://tmssl.akamaized.net//images/wappen/hea...</td>\n",
       "      <td>Манчестер Сити</td>\n",
       "      <td>Англия</td>\n",
       "    </tr>\n",
       "    <tr>\n",
       "      <th>1</th>\n",
       "      <td>27</td>\n",
       "      <td>https://tmssl.akamaized.net//images/wappen/hea...</td>\n",
       "      <td>Бавария</td>\n",
       "      <td>Германия</td>\n",
       "    </tr>\n",
       "    <tr>\n",
       "      <th>2</th>\n",
       "      <td>418</td>\n",
       "      <td>https://tmssl.akamaized.net//images/wappen/hea...</td>\n",
       "      <td>Реал Мадрид</td>\n",
       "      <td>Испания</td>\n",
       "    </tr>\n",
       "    <tr>\n",
       "      <th>3</th>\n",
       "      <td>131</td>\n",
       "      <td>https://tmssl.akamaized.net//images/wappen/hea...</td>\n",
       "      <td>Барселона</td>\n",
       "      <td>Испания</td>\n",
       "    </tr>\n",
       "    <tr>\n",
       "      <th>4</th>\n",
       "      <td>583</td>\n",
       "      <td>https://tmssl.akamaized.net//images/wappen/hea...</td>\n",
       "      <td>ПСЖ</td>\n",
       "      <td>Франция</td>\n",
       "    </tr>\n",
       "  </tbody>\n",
       "</table>\n",
       "</div>"
      ],
      "text/plain": [
       "   TeamID                                          ImageLink       Team_name  \\\n",
       "0     281  https://tmssl.akamaized.net//images/wappen/hea...  Манчестер Сити   \n",
       "1      27  https://tmssl.akamaized.net//images/wappen/hea...         Бавария   \n",
       "2     418  https://tmssl.akamaized.net//images/wappen/hea...     Реал Мадрид   \n",
       "3     131  https://tmssl.akamaized.net//images/wappen/hea...       Барселона   \n",
       "4     583  https://tmssl.akamaized.net//images/wappen/hea...             ПСЖ   \n",
       "\n",
       "  Country_Name  \n",
       "0       Англия  \n",
       "1     Германия  \n",
       "2      Испания  \n",
       "3      Испания  \n",
       "4      Франция  "
      ]
     },
     "execution_count": 18,
     "metadata": {},
     "output_type": "execute_result"
    }
   ],
   "source": [
    "# Create new Data Frame by merging \"club_images_df\" and \"complete_clubs_df\" Data Frames on \"TeamID\" column, so that we will add name of the club to the first Data Frame\n",
    "club_info_df = club_images_df.merge(complete_clubs_df, on=\"TeamID\")\n",
    "club_info_df.head()"
   ]
  },
  {
   "cell_type": "code",
   "execution_count": 19,
   "metadata": {},
   "outputs": [
    {
     "data": {
      "text/html": [
       "<div>\n",
       "<style scoped>\n",
       "    .dataframe tbody tr th:only-of-type {\n",
       "        vertical-align: middle;\n",
       "    }\n",
       "\n",
       "    .dataframe tbody tr th {\n",
       "        vertical-align: top;\n",
       "    }\n",
       "\n",
       "    .dataframe thead th {\n",
       "        text-align: right;\n",
       "    }\n",
       "</style>\n",
       "<table border=\"1\" class=\"dataframe\">\n",
       "  <thead>\n",
       "    <tr style=\"text-align: right;\">\n",
       "      <th></th>\n",
       "      <th>TeamID</th>\n",
       "      <th>ImageLink</th>\n",
       "      <th>Team_name</th>\n",
       "      <th>Country_Name</th>\n",
       "      <th>NationalTeamID</th>\n",
       "      <th>NationalTeamName</th>\n",
       "    </tr>\n",
       "  </thead>\n",
       "  <tbody>\n",
       "    <tr>\n",
       "      <th>0</th>\n",
       "      <td>281</td>\n",
       "      <td>https://tmssl.akamaized.net//images/wappen/hea...</td>\n",
       "      <td>Манчестер Сити</td>\n",
       "      <td>Англия</td>\n",
       "      <td>3299</td>\n",
       "      <td>Англия</td>\n",
       "    </tr>\n",
       "    <tr>\n",
       "      <th>1</th>\n",
       "      <td>27</td>\n",
       "      <td>https://tmssl.akamaized.net//images/wappen/hea...</td>\n",
       "      <td>Бавария</td>\n",
       "      <td>Германия</td>\n",
       "      <td>3262</td>\n",
       "      <td>Германия</td>\n",
       "    </tr>\n",
       "    <tr>\n",
       "      <th>2</th>\n",
       "      <td>418</td>\n",
       "      <td>https://tmssl.akamaized.net//images/wappen/hea...</td>\n",
       "      <td>Реал Мадрид</td>\n",
       "      <td>Испания</td>\n",
       "      <td>3375</td>\n",
       "      <td>Испания</td>\n",
       "    </tr>\n",
       "    <tr>\n",
       "      <th>3</th>\n",
       "      <td>131</td>\n",
       "      <td>https://tmssl.akamaized.net//images/wappen/hea...</td>\n",
       "      <td>Барселона</td>\n",
       "      <td>Испания</td>\n",
       "      <td>3375</td>\n",
       "      <td>Испания</td>\n",
       "    </tr>\n",
       "    <tr>\n",
       "      <th>4</th>\n",
       "      <td>583</td>\n",
       "      <td>https://tmssl.akamaized.net//images/wappen/hea...</td>\n",
       "      <td>ПСЖ</td>\n",
       "      <td>Франция</td>\n",
       "      <td>3377</td>\n",
       "      <td>Франция</td>\n",
       "    </tr>\n",
       "  </tbody>\n",
       "</table>\n",
       "</div>"
      ],
      "text/plain": [
       "   TeamID                                          ImageLink       Team_name  \\\n",
       "0     281  https://tmssl.akamaized.net//images/wappen/hea...  Манчестер Сити   \n",
       "1      27  https://tmssl.akamaized.net//images/wappen/hea...         Бавария   \n",
       "2     418  https://tmssl.akamaized.net//images/wappen/hea...     Реал Мадрид   \n",
       "3     131  https://tmssl.akamaized.net//images/wappen/hea...       Барселона   \n",
       "4     583  https://tmssl.akamaized.net//images/wappen/hea...             ПСЖ   \n",
       "\n",
       "  Country_Name  NationalTeamID NationalTeamName  \n",
       "0       Англия            3299           Англия  \n",
       "1     Германия            3262         Германия  \n",
       "2      Испания            3375          Испания  \n",
       "3      Испания            3375          Испания  \n",
       "4      Франция            3377          Франция  "
      ]
     },
     "execution_count": 19,
     "metadata": {},
     "output_type": "execute_result"
    }
   ],
   "source": [
    "# Add \"NationalTeamID\" column from \"national_teams_df\" to \"clubs_info_df\" Data Frame\n",
    "club_info_df = club_info_df.merge(national_teams_df, left_on=\"Country_Name\", right_on=\"NationalTeamName\")\n",
    "club_info_df.head()"
   ]
  },
  {
   "cell_type": "code",
   "execution_count": 20,
   "metadata": {},
   "outputs": [
    {
     "data": {
      "text/html": [
       "<div>\n",
       "<style scoped>\n",
       "    .dataframe tbody tr th:only-of-type {\n",
       "        vertical-align: middle;\n",
       "    }\n",
       "\n",
       "    .dataframe tbody tr th {\n",
       "        vertical-align: top;\n",
       "    }\n",
       "\n",
       "    .dataframe thead th {\n",
       "        text-align: right;\n",
       "    }\n",
       "</style>\n",
       "<table border=\"1\" class=\"dataframe\">\n",
       "  <thead>\n",
       "    <tr style=\"text-align: right;\">\n",
       "      <th></th>\n",
       "      <th>TeamID</th>\n",
       "      <th>ImageLink</th>\n",
       "      <th>Team_name</th>\n",
       "      <th>Country_Name</th>\n",
       "      <th>NationalTeamID</th>\n",
       "    </tr>\n",
       "  </thead>\n",
       "  <tbody>\n",
       "    <tr>\n",
       "      <th>0</th>\n",
       "      <td>281</td>\n",
       "      <td>https://tmssl.akamaized.net//images/wappen/hea...</td>\n",
       "      <td>Манчестер Сити</td>\n",
       "      <td>Англия</td>\n",
       "      <td>3299</td>\n",
       "    </tr>\n",
       "    <tr>\n",
       "      <th>1</th>\n",
       "      <td>27</td>\n",
       "      <td>https://tmssl.akamaized.net//images/wappen/hea...</td>\n",
       "      <td>Бавария</td>\n",
       "      <td>Германия</td>\n",
       "      <td>3262</td>\n",
       "    </tr>\n",
       "    <tr>\n",
       "      <th>2</th>\n",
       "      <td>418</td>\n",
       "      <td>https://tmssl.akamaized.net//images/wappen/hea...</td>\n",
       "      <td>Реал Мадрид</td>\n",
       "      <td>Испания</td>\n",
       "      <td>3375</td>\n",
       "    </tr>\n",
       "    <tr>\n",
       "      <th>3</th>\n",
       "      <td>131</td>\n",
       "      <td>https://tmssl.akamaized.net//images/wappen/hea...</td>\n",
       "      <td>Барселона</td>\n",
       "      <td>Испания</td>\n",
       "      <td>3375</td>\n",
       "    </tr>\n",
       "    <tr>\n",
       "      <th>4</th>\n",
       "      <td>583</td>\n",
       "      <td>https://tmssl.akamaized.net//images/wappen/hea...</td>\n",
       "      <td>ПСЖ</td>\n",
       "      <td>Франция</td>\n",
       "      <td>3377</td>\n",
       "    </tr>\n",
       "  </tbody>\n",
       "</table>\n",
       "</div>"
      ],
      "text/plain": [
       "   TeamID                                          ImageLink       Team_name  \\\n",
       "0     281  https://tmssl.akamaized.net//images/wappen/hea...  Манчестер Сити   \n",
       "1      27  https://tmssl.akamaized.net//images/wappen/hea...         Бавария   \n",
       "2     418  https://tmssl.akamaized.net//images/wappen/hea...     Реал Мадрид   \n",
       "3     131  https://tmssl.akamaized.net//images/wappen/hea...       Барселона   \n",
       "4     583  https://tmssl.akamaized.net//images/wappen/hea...             ПСЖ   \n",
       "\n",
       "  Country_Name  NationalTeamID  \n",
       "0       Англия            3299  \n",
       "1     Германия            3262  \n",
       "2      Испания            3375  \n",
       "3      Испания            3375  \n",
       "4      Франция            3377  "
      ]
     },
     "execution_count": 20,
     "metadata": {},
     "output_type": "execute_result"
    }
   ],
   "source": [
    "# Drop \"NationalTeamName\" column, we will not need it\n",
    "club_info_df.drop(columns=[\"NationalTeamName\"], inplace=True)\n",
    "club_info_df.head()"
   ]
  },
  {
   "cell_type": "code",
   "execution_count": 21,
   "metadata": {},
   "outputs": [
    {
     "data": {
      "text/html": [
       "<div>\n",
       "<style scoped>\n",
       "    .dataframe tbody tr th:only-of-type {\n",
       "        vertical-align: middle;\n",
       "    }\n",
       "\n",
       "    .dataframe tbody tr th {\n",
       "        vertical-align: top;\n",
       "    }\n",
       "\n",
       "    .dataframe thead th {\n",
       "        text-align: right;\n",
       "    }\n",
       "</style>\n",
       "<table border=\"1\" class=\"dataframe\">\n",
       "  <thead>\n",
       "    <tr style=\"text-align: right;\">\n",
       "      <th></th>\n",
       "      <th>TeamID</th>\n",
       "      <th>ImageLink</th>\n",
       "      <th>Team_name</th>\n",
       "      <th>Country_Name</th>\n",
       "      <th>NationalTeamID</th>\n",
       "      <th>NumberOfCups</th>\n",
       "    </tr>\n",
       "  </thead>\n",
       "  <tbody>\n",
       "    <tr>\n",
       "      <th>0</th>\n",
       "      <td>281</td>\n",
       "      <td>https://tmssl.akamaized.net//images/wappen/hea...</td>\n",
       "      <td>Манчестер Сити</td>\n",
       "      <td>Англия</td>\n",
       "      <td>3299</td>\n",
       "      <td>43</td>\n",
       "    </tr>\n",
       "    <tr>\n",
       "      <th>1</th>\n",
       "      <td>27</td>\n",
       "      <td>https://tmssl.akamaized.net//images/wappen/hea...</td>\n",
       "      <td>Бавария</td>\n",
       "      <td>Германия</td>\n",
       "      <td>3262</td>\n",
       "      <td>84</td>\n",
       "    </tr>\n",
       "    <tr>\n",
       "      <th>2</th>\n",
       "      <td>418</td>\n",
       "      <td>https://tmssl.akamaized.net//images/wappen/hea...</td>\n",
       "      <td>Реал Мадрид</td>\n",
       "      <td>Испания</td>\n",
       "      <td>3375</td>\n",
       "      <td>103</td>\n",
       "    </tr>\n",
       "    <tr>\n",
       "      <th>3</th>\n",
       "      <td>131</td>\n",
       "      <td>https://tmssl.akamaized.net//images/wappen/hea...</td>\n",
       "      <td>Барселона</td>\n",
       "      <td>Испания</td>\n",
       "      <td>3375</td>\n",
       "      <td>105</td>\n",
       "    </tr>\n",
       "    <tr>\n",
       "      <th>4</th>\n",
       "      <td>583</td>\n",
       "      <td>https://tmssl.akamaized.net//images/wappen/hea...</td>\n",
       "      <td>ПСЖ</td>\n",
       "      <td>Франция</td>\n",
       "      <td>3377</td>\n",
       "      <td>51</td>\n",
       "    </tr>\n",
       "  </tbody>\n",
       "</table>\n",
       "</div>"
      ],
      "text/plain": [
       "   TeamID                                          ImageLink       Team_name  \\\n",
       "0     281  https://tmssl.akamaized.net//images/wappen/hea...  Манчестер Сити   \n",
       "1      27  https://tmssl.akamaized.net//images/wappen/hea...         Бавария   \n",
       "2     418  https://tmssl.akamaized.net//images/wappen/hea...     Реал Мадрид   \n",
       "3     131  https://tmssl.akamaized.net//images/wappen/hea...       Барселона   \n",
       "4     583  https://tmssl.akamaized.net//images/wappen/hea...             ПСЖ   \n",
       "\n",
       "  Country_Name  NationalTeamID  NumberOfCups  \n",
       "0       Англия            3299            43  \n",
       "1     Германия            3262            84  \n",
       "2      Испания            3375           103  \n",
       "3      Испания            3375           105  \n",
       "4      Франция            3377            51  "
      ]
     },
     "execution_count": 21,
     "metadata": {},
     "output_type": "execute_result"
    }
   ],
   "source": [
    "# Add \"NumberOfCups\" column from \"cups_clubs_df\" to \"club_info_df\" Data Frame\n",
    "club_info_df = club_info_df.merge(cups_clubs_df, on=\"TeamID\")\n",
    "club_info_df.head()"
   ]
  },
  {
   "cell_type": "code",
   "execution_count": 22,
   "metadata": {},
   "outputs": [
    {
     "data": {
      "text/html": [
       "<div>\n",
       "<style scoped>\n",
       "    .dataframe tbody tr th:only-of-type {\n",
       "        vertical-align: middle;\n",
       "    }\n",
       "\n",
       "    .dataframe tbody tr th {\n",
       "        vertical-align: top;\n",
       "    }\n",
       "\n",
       "    .dataframe thead th {\n",
       "        text-align: right;\n",
       "    }\n",
       "</style>\n",
       "<table border=\"1\" class=\"dataframe\">\n",
       "  <thead>\n",
       "    <tr style=\"text-align: right;\">\n",
       "      <th></th>\n",
       "      <th>TeamID</th>\n",
       "      <th>ImageLink</th>\n",
       "      <th>Team_name</th>\n",
       "      <th>NationalTeamID</th>\n",
       "      <th>NumberOfCups</th>\n",
       "    </tr>\n",
       "  </thead>\n",
       "  <tbody>\n",
       "    <tr>\n",
       "      <th>0</th>\n",
       "      <td>281</td>\n",
       "      <td>https://tmssl.akamaized.net//images/wappen/hea...</td>\n",
       "      <td>Манчестер Сити</td>\n",
       "      <td>3299</td>\n",
       "      <td>43</td>\n",
       "    </tr>\n",
       "    <tr>\n",
       "      <th>1</th>\n",
       "      <td>27</td>\n",
       "      <td>https://tmssl.akamaized.net//images/wappen/hea...</td>\n",
       "      <td>Бавария</td>\n",
       "      <td>3262</td>\n",
       "      <td>84</td>\n",
       "    </tr>\n",
       "    <tr>\n",
       "      <th>2</th>\n",
       "      <td>418</td>\n",
       "      <td>https://tmssl.akamaized.net//images/wappen/hea...</td>\n",
       "      <td>Реал Мадрид</td>\n",
       "      <td>3375</td>\n",
       "      <td>103</td>\n",
       "    </tr>\n",
       "    <tr>\n",
       "      <th>3</th>\n",
       "      <td>131</td>\n",
       "      <td>https://tmssl.akamaized.net//images/wappen/hea...</td>\n",
       "      <td>Барселона</td>\n",
       "      <td>3375</td>\n",
       "      <td>105</td>\n",
       "    </tr>\n",
       "    <tr>\n",
       "      <th>4</th>\n",
       "      <td>583</td>\n",
       "      <td>https://tmssl.akamaized.net//images/wappen/hea...</td>\n",
       "      <td>ПСЖ</td>\n",
       "      <td>3377</td>\n",
       "      <td>51</td>\n",
       "    </tr>\n",
       "  </tbody>\n",
       "</table>\n",
       "</div>"
      ],
      "text/plain": [
       "   TeamID                                          ImageLink       Team_name  \\\n",
       "0     281  https://tmssl.akamaized.net//images/wappen/hea...  Манчестер Сити   \n",
       "1      27  https://tmssl.akamaized.net//images/wappen/hea...         Бавария   \n",
       "2     418  https://tmssl.akamaized.net//images/wappen/hea...     Реал Мадрид   \n",
       "3     131  https://tmssl.akamaized.net//images/wappen/hea...       Барселона   \n",
       "4     583  https://tmssl.akamaized.net//images/wappen/hea...             ПСЖ   \n",
       "\n",
       "   NationalTeamID  NumberOfCups  \n",
       "0            3299            43  \n",
       "1            3262            84  \n",
       "2            3375           103  \n",
       "3            3375           105  \n",
       "4            3377            51  "
      ]
     },
     "execution_count": 22,
     "metadata": {},
     "output_type": "execute_result"
    }
   ],
   "source": [
    "# Drop \"Country_Name\" column, we will not need it\n",
    "club_info_df.drop(columns=[\"Country_Name\"], inplace=True)\n",
    "club_info_df.head()"
   ]
  },
  {
   "cell_type": "code",
   "execution_count": 23,
   "metadata": {},
   "outputs": [
    {
     "data": {
      "text/html": [
       "<div>\n",
       "<style scoped>\n",
       "    .dataframe tbody tr th:only-of-type {\n",
       "        vertical-align: middle;\n",
       "    }\n",
       "\n",
       "    .dataframe tbody tr th {\n",
       "        vertical-align: top;\n",
       "    }\n",
       "\n",
       "    .dataframe thead th {\n",
       "        text-align: right;\n",
       "    }\n",
       "</style>\n",
       "<table border=\"1\" class=\"dataframe\">\n",
       "  <thead>\n",
       "    <tr style=\"text-align: right;\">\n",
       "      <th></th>\n",
       "      <th>TeamID</th>\n",
       "      <th>Team_name</th>\n",
       "      <th>NumberOfCups</th>\n",
       "      <th>NationalTeamID</th>\n",
       "      <th>ImageLink</th>\n",
       "    </tr>\n",
       "  </thead>\n",
       "  <tbody>\n",
       "    <tr>\n",
       "      <th>0</th>\n",
       "      <td>281</td>\n",
       "      <td>Манчестер Сити</td>\n",
       "      <td>43</td>\n",
       "      <td>3299</td>\n",
       "      <td>https://tmssl.akamaized.net//images/wappen/hea...</td>\n",
       "    </tr>\n",
       "    <tr>\n",
       "      <th>1</th>\n",
       "      <td>27</td>\n",
       "      <td>Бавария</td>\n",
       "      <td>84</td>\n",
       "      <td>3262</td>\n",
       "      <td>https://tmssl.akamaized.net//images/wappen/hea...</td>\n",
       "    </tr>\n",
       "    <tr>\n",
       "      <th>2</th>\n",
       "      <td>418</td>\n",
       "      <td>Реал Мадрид</td>\n",
       "      <td>103</td>\n",
       "      <td>3375</td>\n",
       "      <td>https://tmssl.akamaized.net//images/wappen/hea...</td>\n",
       "    </tr>\n",
       "    <tr>\n",
       "      <th>3</th>\n",
       "      <td>131</td>\n",
       "      <td>Барселона</td>\n",
       "      <td>105</td>\n",
       "      <td>3375</td>\n",
       "      <td>https://tmssl.akamaized.net//images/wappen/hea...</td>\n",
       "    </tr>\n",
       "    <tr>\n",
       "      <th>4</th>\n",
       "      <td>583</td>\n",
       "      <td>ПСЖ</td>\n",
       "      <td>51</td>\n",
       "      <td>3377</td>\n",
       "      <td>https://tmssl.akamaized.net//images/wappen/hea...</td>\n",
       "    </tr>\n",
       "  </tbody>\n",
       "</table>\n",
       "</div>"
      ],
      "text/plain": [
       "   TeamID       Team_name  NumberOfCups  NationalTeamID  \\\n",
       "0     281  Манчестер Сити            43            3299   \n",
       "1      27         Бавария            84            3262   \n",
       "2     418     Реал Мадрид           103            3375   \n",
       "3     131       Барселона           105            3375   \n",
       "4     583             ПСЖ            51            3377   \n",
       "\n",
       "                                           ImageLink  \n",
       "0  https://tmssl.akamaized.net//images/wappen/hea...  \n",
       "1  https://tmssl.akamaized.net//images/wappen/hea...  \n",
       "2  https://tmssl.akamaized.net//images/wappen/hea...  \n",
       "3  https://tmssl.akamaized.net//images/wappen/hea...  \n",
       "4  https://tmssl.akamaized.net//images/wappen/hea...  "
      ]
     },
     "execution_count": 23,
     "metadata": {},
     "output_type": "execute_result"
    }
   ],
   "source": [
    "# Rearrange columns\n",
    "club_info_df = club_info_df[[\"TeamID\", \"Team_name\", \"NumberOfCups\", \"NationalTeamID\", \"ImageLink\"]]\n",
    "club_info_df.head()"
   ]
  },
  {
   "cell_type": "code",
   "execution_count": 24,
   "metadata": {},
   "outputs": [
    {
     "data": {
      "text/plain": [
       "TeamID            0\n",
       "Team_name         0\n",
       "NumberOfCups      0\n",
       "NationalTeamID    0\n",
       "ImageLink         0\n",
       "dtype: int64"
      ]
     },
     "execution_count": 24,
     "metadata": {},
     "output_type": "execute_result"
    }
   ],
   "source": [
    "# Final check for NaNs\n",
    "club_info_df.isna().sum()"
   ]
  },
  {
   "cell_type": "code",
   "execution_count": 25,
   "metadata": {},
   "outputs": [],
   "source": [
    "# Write resulting Data Frame to a JSON file\n",
    "with open(\"club_info.json\", \"w\") as file:\n",
    "    json.dump(club_info_df.to_dict(orient=\"records\"), file, indent=4)"
   ]
  }
 ],
 "metadata": {
  "kernelspec": {
   "display_name": ".venv",
   "language": "python",
   "name": "python3"
  },
  "language_info": {
   "codemirror_mode": {
    "name": "ipython",
    "version": 3
   },
   "file_extension": ".py",
   "mimetype": "text/x-python",
   "name": "python",
   "nbconvert_exporter": "python",
   "pygments_lexer": "ipython3",
   "version": "3.13.2"
  }
 },
 "nbformat": 4,
 "nbformat_minor": 2
}
