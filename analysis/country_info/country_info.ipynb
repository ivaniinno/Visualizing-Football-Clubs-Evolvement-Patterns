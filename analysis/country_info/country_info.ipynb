{
 "cells": [
  {
   "cell_type": "code",
   "execution_count": 1,
   "metadata": {},
   "outputs": [],
   "source": [
    "import numpy as np\n",
    "import pandas as pd\n",
    "import json"
   ]
  },
  {
   "cell_type": "code",
   "execution_count": 2,
   "metadata": {},
   "outputs": [
    {
     "data": {
      "text/html": [
       "<div>\n",
       "<style scoped>\n",
       "    .dataframe tbody tr th:only-of-type {\n",
       "        vertical-align: middle;\n",
       "    }\n",
       "\n",
       "    .dataframe tbody tr th {\n",
       "        vertical-align: top;\n",
       "    }\n",
       "\n",
       "    .dataframe thead th {\n",
       "        text-align: right;\n",
       "    }\n",
       "</style>\n",
       "<table border=\"1\" class=\"dataframe\">\n",
       "  <thead>\n",
       "    <tr style=\"text-align: right;\">\n",
       "      <th></th>\n",
       "      <th>NationalTeamID</th>\n",
       "      <th>NationalTeamName</th>\n",
       "      <th>Link_to_team</th>\n",
       "      <th>Page</th>\n",
       "    </tr>\n",
       "  </thead>\n",
       "  <tbody>\n",
       "    <tr>\n",
       "      <th>0</th>\n",
       "      <td>3437</td>\n",
       "      <td>Аргентина</td>\n",
       "      <td>/argentinien/startseite/verein/3437</td>\n",
       "      <td>1</td>\n",
       "    </tr>\n",
       "    <tr>\n",
       "      <th>1</th>\n",
       "      <td>3377</td>\n",
       "      <td>Франция</td>\n",
       "      <td>/frankreich/startseite/verein/3377</td>\n",
       "      <td>1</td>\n",
       "    </tr>\n",
       "    <tr>\n",
       "      <th>2</th>\n",
       "      <td>3375</td>\n",
       "      <td>Испания</td>\n",
       "      <td>/spanien/startseite/verein/3375</td>\n",
       "      <td>1</td>\n",
       "    </tr>\n",
       "    <tr>\n",
       "      <th>3</th>\n",
       "      <td>3299</td>\n",
       "      <td>Англия</td>\n",
       "      <td>/england/startseite/verein/3299</td>\n",
       "      <td>1</td>\n",
       "    </tr>\n",
       "    <tr>\n",
       "      <th>4</th>\n",
       "      <td>3439</td>\n",
       "      <td>Бразилия</td>\n",
       "      <td>/brasilien/startseite/verein/3439</td>\n",
       "      <td>1</td>\n",
       "    </tr>\n",
       "  </tbody>\n",
       "</table>\n",
       "</div>"
      ],
      "text/plain": [
       "   NationalTeamID NationalTeamName                         Link_to_team  Page\n",
       "0            3437        Аргентина  /argentinien/startseite/verein/3437     1\n",
       "1            3377          Франция   /frankreich/startseite/verein/3377     1\n",
       "2            3375          Испания      /spanien/startseite/verein/3375     1\n",
       "3            3299           Англия      /england/startseite/verein/3299     1\n",
       "4            3439         Бразилия    /brasilien/startseite/verein/3439     1"
      ]
     },
     "execution_count": 2,
     "metadata": {},
     "output_type": "execute_result"
    }
   ],
   "source": [
    "# Load data about national teams\n",
    "national_teams_df = pd.read_json(\"../../parsing/parsedData/sorted_national_teams.json\")\n",
    "national_teams_df.head()"
   ]
  },
  {
   "cell_type": "code",
   "execution_count": 3,
   "metadata": {},
   "outputs": [
    {
     "data": {
      "text/plain": [
       "[RangeIndex(start=0, stop=210, step=1),\n",
       " Index(['NationalTeamID', 'NationalTeamName', 'Link_to_team', 'Page'], dtype='object')]"
      ]
     },
     "execution_count": 3,
     "metadata": {},
     "output_type": "execute_result"
    }
   ],
   "source": [
    "# Check axes\n",
    "national_teams_df.axes"
   ]
  },
  {
   "cell_type": "code",
   "execution_count": 4,
   "metadata": {},
   "outputs": [
    {
     "data": {
      "text/html": [
       "<div>\n",
       "<style scoped>\n",
       "    .dataframe tbody tr th:only-of-type {\n",
       "        vertical-align: middle;\n",
       "    }\n",
       "\n",
       "    .dataframe tbody tr th {\n",
       "        vertical-align: top;\n",
       "    }\n",
       "\n",
       "    .dataframe thead th {\n",
       "        text-align: right;\n",
       "    }\n",
       "</style>\n",
       "<table border=\"1\" class=\"dataframe\">\n",
       "  <thead>\n",
       "    <tr style=\"text-align: right;\">\n",
       "      <th></th>\n",
       "      <th>NationalTeamID</th>\n",
       "      <th>NationalTeamName</th>\n",
       "    </tr>\n",
       "  </thead>\n",
       "  <tbody>\n",
       "    <tr>\n",
       "      <th>0</th>\n",
       "      <td>3437</td>\n",
       "      <td>Аргентина</td>\n",
       "    </tr>\n",
       "    <tr>\n",
       "      <th>1</th>\n",
       "      <td>3377</td>\n",
       "      <td>Франция</td>\n",
       "    </tr>\n",
       "    <tr>\n",
       "      <th>2</th>\n",
       "      <td>3375</td>\n",
       "      <td>Испания</td>\n",
       "    </tr>\n",
       "    <tr>\n",
       "      <th>3</th>\n",
       "      <td>3299</td>\n",
       "      <td>Англия</td>\n",
       "    </tr>\n",
       "    <tr>\n",
       "      <th>4</th>\n",
       "      <td>3439</td>\n",
       "      <td>Бразилия</td>\n",
       "    </tr>\n",
       "  </tbody>\n",
       "</table>\n",
       "</div>"
      ],
      "text/plain": [
       "   NationalTeamID NationalTeamName\n",
       "0            3437        Аргентина\n",
       "1            3377          Франция\n",
       "2            3375          Испания\n",
       "3            3299           Англия\n",
       "4            3439         Бразилия"
      ]
     },
     "execution_count": 4,
     "metadata": {},
     "output_type": "execute_result"
    }
   ],
   "source": [
    "# Drop \"Link_to_team\" and \"Page\" columns, we will not need them\n",
    "national_teams_df.drop(columns=[\"Link_to_team\", \"Page\"], inplace=True)\n",
    "national_teams_df.head()"
   ]
  },
  {
   "cell_type": "code",
   "execution_count": 5,
   "metadata": {},
   "outputs": [
    {
     "data": {
      "text/html": [
       "<div>\n",
       "<style scoped>\n",
       "    .dataframe tbody tr th:only-of-type {\n",
       "        vertical-align: middle;\n",
       "    }\n",
       "\n",
       "    .dataframe tbody tr th {\n",
       "        vertical-align: top;\n",
       "    }\n",
       "\n",
       "    .dataframe thead th {\n",
       "        text-align: right;\n",
       "    }\n",
       "</style>\n",
       "<table border=\"1\" class=\"dataframe\">\n",
       "  <thead>\n",
       "    <tr style=\"text-align: right;\">\n",
       "      <th></th>\n",
       "      <th>TeamID</th>\n",
       "      <th>Team_name</th>\n",
       "      <th>Country_Name</th>\n",
       "      <th>Link_to_team</th>\n",
       "      <th>Page</th>\n",
       "    </tr>\n",
       "  </thead>\n",
       "  <tbody>\n",
       "    <tr>\n",
       "      <th>0</th>\n",
       "      <td>418</td>\n",
       "      <td>Реал Мадрид</td>\n",
       "      <td>Испания</td>\n",
       "      <td>/real-madrid/startseite/verein/418</td>\n",
       "      <td>1</td>\n",
       "    </tr>\n",
       "    <tr>\n",
       "      <th>1</th>\n",
       "      <td>281</td>\n",
       "      <td>Манчестер Сити</td>\n",
       "      <td>Англия</td>\n",
       "      <td>/manchester-city/startseite/verein/281</td>\n",
       "      <td>1</td>\n",
       "    </tr>\n",
       "    <tr>\n",
       "      <th>2</th>\n",
       "      <td>27</td>\n",
       "      <td>Бавария</td>\n",
       "      <td>Германия</td>\n",
       "      <td>/fc-bayern-munchen/startseite/verein/27</td>\n",
       "      <td>1</td>\n",
       "    </tr>\n",
       "    <tr>\n",
       "      <th>3</th>\n",
       "      <td>31</td>\n",
       "      <td>Ливерпуль</td>\n",
       "      <td>Англия</td>\n",
       "      <td>/fc-liverpool/startseite/verein/31</td>\n",
       "      <td>1</td>\n",
       "    </tr>\n",
       "    <tr>\n",
       "      <th>4</th>\n",
       "      <td>583</td>\n",
       "      <td>ПСЖ</td>\n",
       "      <td>Франция</td>\n",
       "      <td>/fc-paris-saint-germain/startseite/verein/583</td>\n",
       "      <td>1</td>\n",
       "    </tr>\n",
       "  </tbody>\n",
       "</table>\n",
       "</div>"
      ],
      "text/plain": [
       "   TeamID       Team_name Country_Name  \\\n",
       "0     418     Реал Мадрид      Испания   \n",
       "1     281  Манчестер Сити       Англия   \n",
       "2      27         Бавария     Германия   \n",
       "3      31       Ливерпуль       Англия   \n",
       "4     583             ПСЖ      Франция   \n",
       "\n",
       "                                    Link_to_team  Page  \n",
       "0             /real-madrid/startseite/verein/418     1  \n",
       "1         /manchester-city/startseite/verein/281     1  \n",
       "2        /fc-bayern-munchen/startseite/verein/27     1  \n",
       "3             /fc-liverpool/startseite/verein/31     1  \n",
       "4  /fc-paris-saint-germain/startseite/verein/583     1  "
      ]
     },
     "execution_count": 5,
     "metadata": {},
     "output_type": "execute_result"
    }
   ],
   "source": [
    "# Load data about clubs\n",
    "clubs_df = pd.read_json(\"../../parsing/parsedData/sorted_teams.json\")\n",
    "clubs_df.head()"
   ]
  },
  {
   "cell_type": "code",
   "execution_count": 6,
   "metadata": {},
   "outputs": [
    {
     "data": {
      "text/plain": [
       "[RangeIndex(start=0, stop=536, step=1),\n",
       " Index(['TeamID', 'Team_name', 'Country_Name', 'Link_to_team', 'Page'], dtype='object')]"
      ]
     },
     "execution_count": 6,
     "metadata": {},
     "output_type": "execute_result"
    }
   ],
   "source": [
    "# Check axes\n",
    "clubs_df.axes"
   ]
  },
  {
   "cell_type": "code",
   "execution_count": 7,
   "metadata": {},
   "outputs": [
    {
     "data": {
      "text/html": [
       "<div>\n",
       "<style scoped>\n",
       "    .dataframe tbody tr th:only-of-type {\n",
       "        vertical-align: middle;\n",
       "    }\n",
       "\n",
       "    .dataframe tbody tr th {\n",
       "        vertical-align: top;\n",
       "    }\n",
       "\n",
       "    .dataframe thead th {\n",
       "        text-align: right;\n",
       "    }\n",
       "</style>\n",
       "<table border=\"1\" class=\"dataframe\">\n",
       "  <thead>\n",
       "    <tr style=\"text-align: right;\">\n",
       "      <th></th>\n",
       "      <th>TeamID</th>\n",
       "      <th>Country_Name</th>\n",
       "    </tr>\n",
       "  </thead>\n",
       "  <tbody>\n",
       "    <tr>\n",
       "      <th>0</th>\n",
       "      <td>418</td>\n",
       "      <td>Испания</td>\n",
       "    </tr>\n",
       "    <tr>\n",
       "      <th>1</th>\n",
       "      <td>281</td>\n",
       "      <td>Англия</td>\n",
       "    </tr>\n",
       "    <tr>\n",
       "      <th>2</th>\n",
       "      <td>27</td>\n",
       "      <td>Германия</td>\n",
       "    </tr>\n",
       "    <tr>\n",
       "      <th>3</th>\n",
       "      <td>31</td>\n",
       "      <td>Англия</td>\n",
       "    </tr>\n",
       "    <tr>\n",
       "      <th>4</th>\n",
       "      <td>583</td>\n",
       "      <td>Франция</td>\n",
       "    </tr>\n",
       "  </tbody>\n",
       "</table>\n",
       "</div>"
      ],
      "text/plain": [
       "   TeamID Country_Name\n",
       "0     418      Испания\n",
       "1     281       Англия\n",
       "2      27     Германия\n",
       "3      31       Англия\n",
       "4     583      Франция"
      ]
     },
     "execution_count": 7,
     "metadata": {},
     "output_type": "execute_result"
    }
   ],
   "source": [
    "# Drop \"Team_name\", \"Link_to_team\" and \"Page\" columns, we will not need them\n",
    "clubs_df.drop(columns=[\"Team_name\", \"Link_to_team\", \"Page\"], inplace=True)\n",
    "clubs_df.head()"
   ]
  },
  {
   "cell_type": "code",
   "execution_count": 8,
   "metadata": {},
   "outputs": [
    {
     "data": {
      "text/html": [
       "<div>\n",
       "<style scoped>\n",
       "    .dataframe tbody tr th:only-of-type {\n",
       "        vertical-align: middle;\n",
       "    }\n",
       "\n",
       "    .dataframe tbody tr th {\n",
       "        vertical-align: top;\n",
       "    }\n",
       "\n",
       "    .dataframe thead th {\n",
       "        text-align: right;\n",
       "    }\n",
       "</style>\n",
       "<table border=\"1\" class=\"dataframe\">\n",
       "  <thead>\n",
       "    <tr style=\"text-align: right;\">\n",
       "      <th></th>\n",
       "      <th>NationalTeamID</th>\n",
       "      <th>NationalTeamName</th>\n",
       "      <th>TeamID</th>\n",
       "      <th>Country_Name</th>\n",
       "    </tr>\n",
       "  </thead>\n",
       "  <tbody>\n",
       "    <tr>\n",
       "      <th>0</th>\n",
       "      <td>3377</td>\n",
       "      <td>Франция</td>\n",
       "      <td>583</td>\n",
       "      <td>Франция</td>\n",
       "    </tr>\n",
       "    <tr>\n",
       "      <th>1</th>\n",
       "      <td>3377</td>\n",
       "      <td>Франция</td>\n",
       "      <td>1082</td>\n",
       "      <td>Франция</td>\n",
       "    </tr>\n",
       "    <tr>\n",
       "      <th>2</th>\n",
       "      <td>3377</td>\n",
       "      <td>Франция</td>\n",
       "      <td>244</td>\n",
       "      <td>Франция</td>\n",
       "    </tr>\n",
       "    <tr>\n",
       "      <th>3</th>\n",
       "      <td>3377</td>\n",
       "      <td>Франция</td>\n",
       "      <td>273</td>\n",
       "      <td>Франция</td>\n",
       "    </tr>\n",
       "    <tr>\n",
       "      <th>4</th>\n",
       "      <td>3377</td>\n",
       "      <td>Франция</td>\n",
       "      <td>1041</td>\n",
       "      <td>Франция</td>\n",
       "    </tr>\n",
       "  </tbody>\n",
       "</table>\n",
       "</div>"
      ],
      "text/plain": [
       "   NationalTeamID NationalTeamName  TeamID Country_Name\n",
       "0            3377          Франция     583      Франция\n",
       "1            3377          Франция    1082      Франция\n",
       "2            3377          Франция     244      Франция\n",
       "3            3377          Франция     273      Франция\n",
       "4            3377          Франция    1041      Франция"
      ]
     },
     "execution_count": 8,
     "metadata": {},
     "output_type": "execute_result"
    }
   ],
   "source": [
    "# Merge \"national_teams_df\" and \"clubs_df\" on country belonging\n",
    "country_info_df = national_teams_df.merge(clubs_df, left_on=\"NationalTeamName\", right_on=\"Country_Name\")\n",
    "country_info_df.head()"
   ]
  },
  {
   "cell_type": "code",
   "execution_count": 9,
   "metadata": {},
   "outputs": [
    {
     "data": {
      "text/html": [
       "<div>\n",
       "<style scoped>\n",
       "    .dataframe tbody tr th:only-of-type {\n",
       "        vertical-align: middle;\n",
       "    }\n",
       "\n",
       "    .dataframe tbody tr th {\n",
       "        vertical-align: top;\n",
       "    }\n",
       "\n",
       "    .dataframe thead th {\n",
       "        text-align: right;\n",
       "    }\n",
       "</style>\n",
       "<table border=\"1\" class=\"dataframe\">\n",
       "  <thead>\n",
       "    <tr style=\"text-align: right;\">\n",
       "      <th></th>\n",
       "      <th>NationalTeamID</th>\n",
       "      <th>NationalTeamName</th>\n",
       "      <th>TeamID</th>\n",
       "    </tr>\n",
       "  </thead>\n",
       "  <tbody>\n",
       "    <tr>\n",
       "      <th>0</th>\n",
       "      <td>3377</td>\n",
       "      <td>Франция</td>\n",
       "      <td>583</td>\n",
       "    </tr>\n",
       "    <tr>\n",
       "      <th>1</th>\n",
       "      <td>3377</td>\n",
       "      <td>Франция</td>\n",
       "      <td>1082</td>\n",
       "    </tr>\n",
       "    <tr>\n",
       "      <th>2</th>\n",
       "      <td>3377</td>\n",
       "      <td>Франция</td>\n",
       "      <td>244</td>\n",
       "    </tr>\n",
       "    <tr>\n",
       "      <th>3</th>\n",
       "      <td>3377</td>\n",
       "      <td>Франция</td>\n",
       "      <td>273</td>\n",
       "    </tr>\n",
       "    <tr>\n",
       "      <th>4</th>\n",
       "      <td>3377</td>\n",
       "      <td>Франция</td>\n",
       "      <td>1041</td>\n",
       "    </tr>\n",
       "  </tbody>\n",
       "</table>\n",
       "</div>"
      ],
      "text/plain": [
       "   NationalTeamID NationalTeamName  TeamID\n",
       "0            3377          Франция     583\n",
       "1            3377          Франция    1082\n",
       "2            3377          Франция     244\n",
       "3            3377          Франция     273\n",
       "4            3377          Франция    1041"
      ]
     },
     "execution_count": 9,
     "metadata": {},
     "output_type": "execute_result"
    }
   ],
   "source": [
    "# Drop \"Country_Name\" column because it is redundant\n",
    "country_info_df.drop(columns=[\"Country_Name\"], inplace=True)\n",
    "country_info_df.head()"
   ]
  },
  {
   "cell_type": "code",
   "execution_count": 10,
   "metadata": {},
   "outputs": [
    {
     "data": {
      "text/html": [
       "<div>\n",
       "<style scoped>\n",
       "    .dataframe tbody tr th:only-of-type {\n",
       "        vertical-align: middle;\n",
       "    }\n",
       "\n",
       "    .dataframe tbody tr th {\n",
       "        vertical-align: top;\n",
       "    }\n",
       "\n",
       "    .dataframe thead th {\n",
       "        text-align: right;\n",
       "    }\n",
       "</style>\n",
       "<table border=\"1\" class=\"dataframe\">\n",
       "  <thead>\n",
       "    <tr style=\"text-align: right;\">\n",
       "      <th></th>\n",
       "      <th>NationalTeamID</th>\n",
       "      <th>NationalTeamName</th>\n",
       "      <th>TeamID</th>\n",
       "    </tr>\n",
       "  </thead>\n",
       "  <tbody>\n",
       "    <tr>\n",
       "      <th>0</th>\n",
       "      <td>3262</td>\n",
       "      <td>Германия</td>\n",
       "      <td>[27, 16, 15, 23826, 24, 60, 89, 533, 18, 79, 8...</td>\n",
       "    </tr>\n",
       "    <tr>\n",
       "      <th>1</th>\n",
       "      <td>3299</td>\n",
       "      <td>Англия</td>\n",
       "      <td>[281, 31, 631, 985, 11, 379, 148, 405, 1003, 1...</td>\n",
       "    </tr>\n",
       "    <tr>\n",
       "      <th>2</th>\n",
       "      <td>3300</td>\n",
       "      <td>Португалия</td>\n",
       "      <td>[294, 720, 336, 1075, 2420, 2424, 2423, 2995, ...</td>\n",
       "    </tr>\n",
       "    <tr>\n",
       "      <th>3</th>\n",
       "      <td>3375</td>\n",
       "      <td>Испания</td>\n",
       "      <td>[418, 131, 13, 1050, 681, 368, 150, 621, 16795...</td>\n",
       "    </tr>\n",
       "    <tr>\n",
       "      <th>4</th>\n",
       "      <td>3376</td>\n",
       "      <td>Италия</td>\n",
       "      <td>[46, 12, 800, 5, 506, 398, 6195, 430, 1025, 65...</td>\n",
       "    </tr>\n",
       "  </tbody>\n",
       "</table>\n",
       "</div>"
      ],
      "text/plain": [
       "   NationalTeamID NationalTeamName  \\\n",
       "0            3262         Германия   \n",
       "1            3299           Англия   \n",
       "2            3300       Португалия   \n",
       "3            3375          Испания   \n",
       "4            3376           Италия   \n",
       "\n",
       "                                              TeamID  \n",
       "0  [27, 16, 15, 23826, 24, 60, 89, 533, 18, 79, 8...  \n",
       "1  [281, 31, 631, 985, 11, 379, 148, 405, 1003, 1...  \n",
       "2  [294, 720, 336, 1075, 2420, 2424, 2423, 2995, ...  \n",
       "3  [418, 131, 13, 1050, 681, 368, 150, 621, 16795...  \n",
       "4  [46, 12, 800, 5, 506, 398, 6195, 430, 1025, 65...  "
      ]
     },
     "execution_count": 10,
     "metadata": {},
     "output_type": "execute_result"
    }
   ],
   "source": [
    "# Group by \"NationalTeamID\" and aggregate \"TeamID\" column into list\n",
    "country_info_df = country_info_df.groupby([\"NationalTeamID\", \"NationalTeamName\"], as_index=False)[\"TeamID\"] \\\n",
    "    .apply(lambda x: x.tolist())\n",
    "country_info_df.head()"
   ]
  },
  {
   "cell_type": "code",
   "execution_count": 11,
   "metadata": {},
   "outputs": [
    {
     "data": {
      "text/plain": [
       "NationalTeamID      0\n",
       "NationalTeamName    0\n",
       "TeamID              0\n",
       "dtype: int64"
      ]
     },
     "execution_count": 11,
     "metadata": {},
     "output_type": "execute_result"
    }
   ],
   "source": [
    "# Check for NaNs, if any\n",
    "country_info_df.isna().sum()"
   ]
  },
  {
   "cell_type": "code",
   "execution_count": 12,
   "metadata": {},
   "outputs": [
    {
     "data": {
      "text/html": [
       "<div>\n",
       "<style scoped>\n",
       "    .dataframe tbody tr th:only-of-type {\n",
       "        vertical-align: middle;\n",
       "    }\n",
       "\n",
       "    .dataframe tbody tr th {\n",
       "        vertical-align: top;\n",
       "    }\n",
       "\n",
       "    .dataframe thead th {\n",
       "        text-align: right;\n",
       "    }\n",
       "</style>\n",
       "<table border=\"1\" class=\"dataframe\">\n",
       "  <thead>\n",
       "    <tr style=\"text-align: right;\">\n",
       "      <th></th>\n",
       "      <th>NationalTeamID</th>\n",
       "      <th>NationalTeamName</th>\n",
       "      <th>TeamID</th>\n",
       "    </tr>\n",
       "  </thead>\n",
       "  <tbody>\n",
       "  </tbody>\n",
       "</table>\n",
       "</div>"
      ],
      "text/plain": [
       "Empty DataFrame\n",
       "Columns: [NationalTeamID, NationalTeamName, TeamID]\n",
       "Index: []"
      ]
     },
     "execution_count": 12,
     "metadata": {},
     "output_type": "execute_result"
    }
   ],
   "source": [
    "# Another way to check TeamID's \n",
    "country_info_df[country_info_df[\"TeamID\"].apply(len) == 0]"
   ]
  },
  {
   "cell_type": "code",
   "execution_count": 13,
   "metadata": {},
   "outputs": [
    {
     "data": {
      "text/html": [
       "<div>\n",
       "<style scoped>\n",
       "    .dataframe tbody tr th:only-of-type {\n",
       "        vertical-align: middle;\n",
       "    }\n",
       "\n",
       "    .dataframe tbody tr th {\n",
       "        vertical-align: top;\n",
       "    }\n",
       "\n",
       "    .dataframe thead th {\n",
       "        text-align: right;\n",
       "    }\n",
       "</style>\n",
       "<table border=\"1\" class=\"dataframe\">\n",
       "  <thead>\n",
       "    <tr style=\"text-align: right;\">\n",
       "      <th></th>\n",
       "      <th>NationalTeamID</th>\n",
       "      <th>NationalTeamName</th>\n",
       "      <th>ClubIDs</th>\n",
       "    </tr>\n",
       "  </thead>\n",
       "  <tbody>\n",
       "    <tr>\n",
       "      <th>0</th>\n",
       "      <td>3262</td>\n",
       "      <td>Германия</td>\n",
       "      <td>[27, 16, 15, 23826, 24, 60, 89, 533, 18, 79, 8...</td>\n",
       "    </tr>\n",
       "    <tr>\n",
       "      <th>1</th>\n",
       "      <td>3299</td>\n",
       "      <td>Англия</td>\n",
       "      <td>[281, 31, 631, 985, 11, 379, 148, 405, 1003, 1...</td>\n",
       "    </tr>\n",
       "    <tr>\n",
       "      <th>2</th>\n",
       "      <td>3300</td>\n",
       "      <td>Португалия</td>\n",
       "      <td>[294, 720, 336, 1075, 2420, 2424, 2423, 2995, ...</td>\n",
       "    </tr>\n",
       "    <tr>\n",
       "      <th>3</th>\n",
       "      <td>3375</td>\n",
       "      <td>Испания</td>\n",
       "      <td>[418, 131, 13, 1050, 681, 368, 150, 621, 16795...</td>\n",
       "    </tr>\n",
       "    <tr>\n",
       "      <th>4</th>\n",
       "      <td>3376</td>\n",
       "      <td>Италия</td>\n",
       "      <td>[46, 12, 800, 5, 506, 398, 6195, 430, 1025, 65...</td>\n",
       "    </tr>\n",
       "  </tbody>\n",
       "</table>\n",
       "</div>"
      ],
      "text/plain": [
       "   NationalTeamID NationalTeamName  \\\n",
       "0            3262         Германия   \n",
       "1            3299           Англия   \n",
       "2            3300       Португалия   \n",
       "3            3375          Испания   \n",
       "4            3376           Италия   \n",
       "\n",
       "                                             ClubIDs  \n",
       "0  [27, 16, 15, 23826, 24, 60, 89, 533, 18, 79, 8...  \n",
       "1  [281, 31, 631, 985, 11, 379, 148, 405, 1003, 1...  \n",
       "2  [294, 720, 336, 1075, 2420, 2424, 2423, 2995, ...  \n",
       "3  [418, 131, 13, 1050, 681, 368, 150, 621, 16795...  \n",
       "4  [46, 12, 800, 5, 506, 398, 6195, 430, 1025, 65...  "
      ]
     },
     "execution_count": 13,
     "metadata": {},
     "output_type": "execute_result"
    }
   ],
   "source": [
    "# Rename columns\n",
    "country_info_df.columns = [\"NationalTeamID\", \"NationalTeamName\", \"ClubIDs\"]\n",
    "country_info_df.head()"
   ]
  },
  {
   "cell_type": "code",
   "execution_count": 14,
   "metadata": {},
   "outputs": [],
   "source": [
    "# Write resulting Data Frame to a JSON file\n",
    "with open(\"country_info.json\", \"w\") as file:\n",
    "    json.dump(country_info_df.to_dict(orient=\"records\"), file, indent=4)"
   ]
  }
 ],
 "metadata": {
  "kernelspec": {
   "display_name": ".venv",
   "language": "python",
   "name": "python3"
  },
  "language_info": {
   "codemirror_mode": {
    "name": "ipython",
    "version": 3
   },
   "file_extension": ".py",
   "mimetype": "text/x-python",
   "name": "python",
   "nbconvert_exporter": "python",
   "pygments_lexer": "ipython3",
   "version": "3.13.2"
  }
 },
 "nbformat": 4,
 "nbformat_minor": 2
}
